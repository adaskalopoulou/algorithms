{
 "cells": [
  {
   "cell_type": "markdown",
   "metadata": {},
   "source": [
    "# Classifying doctor violations by hand, then by machine\n",
    "\n",
    "You're looking out for certain types of doctor violations! Whether keeping poor records, being addicted to drugs, or anything else. **You decide.**\n",
    "\n",
    "**You're going to see how often doctors lose their license for that violation.** There are about 7000 records, though, and you ain't going to read all of them!\n",
    "\n",
    "Steps:\n",
    "\n",
    "1. **Classify some violations by hand**\n",
    "1. Vectorize the **hand-classified violations**\n",
    "1. Train a classifer on the **hand-classified violations**.\n",
    "1. **Test the classifier**. If it's good, next step! If not, go back to training.\n",
    "1. Vectorize the **unclassified violations**\n",
    "1. Use the classifier to **predict the labels of the unclassified violations**\n",
    "1. What actions were taken against those doctors?\n",
    "\n",
    "It'll be magic!"
   ]
  },
  {
   "cell_type": "code",
   "execution_count": 7,
   "metadata": {
    "collapsed": true
   },
   "outputs": [],
   "source": [
    "import pandas as pd\n",
    "import numpy as np"
   ]
  },
  {
   "cell_type": "code",
   "execution_count": 8,
   "metadata": {},
   "outputs": [
    {
     "data": {
      "text/html": [
       "<div>\n",
       "<style>\n",
       "    .dataframe thead tr:only-child th {\n",
       "        text-align: right;\n",
       "    }\n",
       "\n",
       "    .dataframe thead th {\n",
       "        text-align: left;\n",
       "    }\n",
       "\n",
       "    .dataframe tbody tr th {\n",
       "        vertical-align: top;\n",
       "    }\n",
       "</style>\n",
       "<table border=\"1\" class=\"dataframe\">\n",
       "  <thead>\n",
       "    <tr style=\"text-align: right;\">\n",
       "      <th></th>\n",
       "      <th>action</th>\n",
       "      <th>date_updated</th>\n",
       "      <th>eff_date</th>\n",
       "      <th>first</th>\n",
       "      <th>last</th>\n",
       "      <th>lic_num</th>\n",
       "      <th>lic_type</th>\n",
       "      <th>middle</th>\n",
       "      <th>misconduct</th>\n",
       "      <th>order_pdf</th>\n",
       "      <th>restrictions</th>\n",
       "      <th>url</th>\n",
       "      <th>year_of_birth</th>\n",
       "    </tr>\n",
       "  </thead>\n",
       "  <tbody>\n",
       "    <tr>\n",
       "      <th>0</th>\n",
       "      <td>Revocation of certificate of incorporation.</td>\n",
       "      <td>09/29/2010</td>\n",
       "      <td>09/29/2010</td>\n",
       "      <td>P.C.</td>\n",
       "      <td>563 Grand Medical</td>\n",
       "      <td>196275</td>\n",
       "      <td>NaN</td>\n",
       "      <td>NaN</td>\n",
       "      <td>The corporation admitted guilt to the charge o...</td>\n",
       "      <td>https://apps.health.ny.gov/pubdoh/professional...</td>\n",
       "      <td>NaN</td>\n",
       "      <td>https://apps.health.ny.gov/pubdoh/professional...</td>\n",
       "      <td>NaN</td>\n",
       "    </tr>\n",
       "    <tr>\n",
       "      <th>1</th>\n",
       "      <td>Revocation of certificate of incorporation.  P...</td>\n",
       "      <td>12/01/2010</td>\n",
       "      <td>12/08/2010</td>\n",
       "      <td>P.C.</td>\n",
       "      <td>AR Medical Art</td>\n",
       "      <td>207165</td>\n",
       "      <td>NaN</td>\n",
       "      <td>NaN</td>\n",
       "      <td>The corporation admitted to the charge of havi...</td>\n",
       "      <td>https://apps.health.ny.gov/pubdoh/professional...</td>\n",
       "      <td>NaN</td>\n",
       "      <td>https://apps.health.ny.gov/pubdoh/professional...</td>\n",
       "      <td>NaN</td>\n",
       "    </tr>\n",
       "  </tbody>\n",
       "</table>\n",
       "</div>"
      ],
      "text/plain": [
       "                                              action date_updated    eff_date  \\\n",
       "0        Revocation of certificate of incorporation.   09/29/2010  09/29/2010   \n",
       "1  Revocation of certificate of incorporation.  P...   12/01/2010  12/08/2010   \n",
       "\n",
       "  first               last lic_num lic_type middle  \\\n",
       "0  P.C.  563 Grand Medical  196275      NaN    NaN   \n",
       "1  P.C.     AR Medical Art  207165      NaN    NaN   \n",
       "\n",
       "                                          misconduct  \\\n",
       "0  The corporation admitted guilt to the charge o...   \n",
       "1  The corporation admitted to the charge of havi...   \n",
       "\n",
       "                                           order_pdf restrictions  \\\n",
       "0  https://apps.health.ny.gov/pubdoh/professional...          NaN   \n",
       "1  https://apps.health.ny.gov/pubdoh/professional...          NaN   \n",
       "\n",
       "                                                 url  year_of_birth  \n",
       "0  https://apps.health.ny.gov/pubdoh/professional...            NaN  \n",
       "1  https://apps.health.ny.gov/pubdoh/professional...            NaN  "
      ]
     },
     "execution_count": 8,
     "metadata": {},
     "output_type": "execute_result"
    }
   ],
   "source": [
    "df = pd.read_csv(\"physicians-ny-violations.csv\")\n",
    "df.head(2)"
   ]
  },
  {
   "cell_type": "markdown",
   "metadata": {},
   "source": [
    "## Step 1: Classify some by hand\n",
    "\n",
    "If you had a CSV with some sort of key in common, you'd be able to just do a join. But we don't! So **I'm going to help you out**.\n",
    "\n",
    "I wrote this little script to help you **classify content by hand**. It will print the violation, then it's what you're looking for. If you type \"y\" or \"Y\" before hitting enter, that means YES. Once it's done it'll add the results to the dataframe in a column called `category`."
   ]
  },
  {
   "cell_type": "code",
   "execution_count": 17,
   "metadata": {
    "collapsed": true
   },
   "outputs": [],
   "source": [
    "number_to_classify_by_hand = 10"
   ]
  },
  {
   "cell_type": "code",
   "execution_count": 18,
   "metadata": {},
   "outputs": [
    {
     "name": "stdout",
     "output_type": "stream",
     "text": [
      "\n",
      "------------\n",
      "\n",
      "The corporation admitted guilt to the charge of ordering excessive tests, treatment, or use of treatment facilities not warranted by the condition of a patient.\n",
      "\n",
      "\n",
      "IS THIS WHAT YOU'RE LOOKING FOR? y for YES y\n",
      "\n",
      "** Classified as YES **\n",
      "\n",
      "------------\n",
      "\n",
      "The corporation admitted to the charge of having been convicted in New York Supreme Court, Kings County of a scheme to defraud in the first degree; falsifying business records; insurance fraud and failing to comply with the requirements of the New York State Business Corporation Law Section 1503(a).\n",
      "\n",
      "\n",
      "IS THIS WHAT YOU'RE LOOKING FOR? y for YES n\n",
      "\n",
      "** Classified as NO **\n",
      "\n",
      "------------\n",
      "\n",
      "This action modifies the penalty previously imposed  by Order# 93-40 on March 31, 1993, where the Hearing Committee sustained the charge that the physician was disciplined by the Utah State Medical Board, and ordered that if he intends to engage in practice in NY State, a two-year period of probation shall be imposed.\n",
      "\n",
      "\n",
      "IS THIS WHAT YOU'RE LOOKING FOR? y for YES t\n",
      "\n",
      "** Classified as NO **\n",
      "\n",
      "------------\n",
      "\n",
      "The physician did not contest the charge of having been disciplined by the North Carolina State Medical Board for his addiction to drugs.\n",
      "\n",
      "\n",
      "IS THIS WHAT YOU'RE LOOKING FOR? y for YES t\n",
      "\n",
      "** Classified as NO **\n",
      "\n",
      "------------\n",
      "\n",
      "The physician did not contest the charge of failing to maintain accurate and adequate patient records.\n",
      "\n",
      "\n",
      "IS THIS WHAT YOU'RE LOOKING FOR? y for YES t\n",
      "\n",
      "** Classified as NO **\n",
      "\n",
      "------------\n",
      "\n",
      "Previously the Review Board on November 14,1994 sustained the Hearing Committee's determination finding the physician had been convicted in New York State Supreme Court, Bronx County of Grand Larceny and Offering a False Instrument for Filing.The Review Board overturned the Hearing Committee's penalty and revoked the physician's New York State medical license.Previously on March 9, 1999 the New York State Board of Regents had denied the physician's restoration of medical license petition.\n",
      "\n",
      "\n",
      "IS THIS WHAT YOU'RE LOOKING FOR? y for YES n\n",
      "\n",
      "** Classified as NO **\n",
      "\n",
      "------------\n",
      "\n",
      "The physician did not contest the charges of negligence and incompetence on more than one occasion; aiding and/or abetting an unlicensed person; delegating professional responsibilities; ordering excessive tests and/or treatment; exercising undue influence over a patient; failing to appropriately supervise and failing to maintain accurate patient records.\n",
      "\n",
      "\n",
      "IS THIS WHAT YOU'RE LOOKING FOR? y for YES t\n",
      "\n",
      "** Classified as NO **\n",
      "\n",
      "------------\n",
      "\n",
      "The physician asserted he could not successfully defend against at least one of the charges of willfully harassing, abusing or intimidating a patient either physically or verbally.\n",
      "\n",
      "\n",
      "IS THIS WHAT YOU'RE LOOKING FOR? y for YES t\n",
      "\n",
      "** Classified as NO **\n",
      "\n",
      "------------\n",
      "\n",
      "The physician did not contest the charge of having been disciplined by the Arizona State Medical Board for being an habitual user of controlled substances.\n",
      "\n",
      "\n",
      "IS THIS WHAT YOU'RE LOOKING FOR? y for YES t\n",
      "\n",
      "** Classified as NO **\n",
      "\n",
      "------------\n",
      "\n",
      "The Hearing Committee sustained the charge finding the physician guilty of having been disciplined by the Florida State Board of Medicine for negligence, failure to practice medicine on an accepted level and failure to maintain adequate records.\n",
      "\n",
      "\n",
      "IS THIS WHAT YOU'RE LOOKING FOR? y for YES n\n",
      "\n",
      "** Classified as NO **\n"
     ]
    },
    {
     "data": {
      "text/plain": [
       "NO     9\n",
       "YES    1\n",
       "Name: category, dtype: int64"
      ]
     },
     "execution_count": 18,
     "metadata": {},
     "output_type": "execute_result"
    }
   ],
   "source": [
    "def is_what_you_want(row):\n",
    "    response = input(\"\\n------------\\n\\n{desc}\\n\\n\\nIS THIS WHAT YOU'RE LOOKING FOR? y for YES \".format(index=row.index, desc=row.misconduct))\n",
    "    if response == \"y\" or response == \"Y\":\n",
    "        print(\"\\n** Classified as YES **\")\n",
    "        return \"YES\"\n",
    "    else:\n",
    "        print(\"\\n** Classified as NO **\")\n",
    "        return \"NO\"\n",
    "\n",
    "# Reset category column\n",
    "df['category'] = np.nan\n",
    "df['category'] = df[:number_to_classify_by_hand].apply(is_what_you_want, axis=1)\n",
    "\n",
    "df.category.value_counts()"
   ]
  },
  {
   "cell_type": "code",
   "execution_count": 19,
   "metadata": {
    "scrolled": true
   },
   "outputs": [
    {
     "data": {
      "text/html": [
       "<div>\n",
       "<style>\n",
       "    .dataframe thead tr:only-child th {\n",
       "        text-align: right;\n",
       "    }\n",
       "\n",
       "    .dataframe thead th {\n",
       "        text-align: left;\n",
       "    }\n",
       "\n",
       "    .dataframe tbody tr th {\n",
       "        vertical-align: top;\n",
       "    }\n",
       "</style>\n",
       "<table border=\"1\" class=\"dataframe\">\n",
       "  <thead>\n",
       "    <tr style=\"text-align: right;\">\n",
       "      <th></th>\n",
       "      <th>action</th>\n",
       "      <th>date_updated</th>\n",
       "      <th>eff_date</th>\n",
       "      <th>first</th>\n",
       "      <th>last</th>\n",
       "      <th>lic_num</th>\n",
       "      <th>lic_type</th>\n",
       "      <th>middle</th>\n",
       "      <th>misconduct</th>\n",
       "      <th>order_pdf</th>\n",
       "      <th>restrictions</th>\n",
       "      <th>url</th>\n",
       "      <th>year_of_birth</th>\n",
       "      <th>category</th>\n",
       "    </tr>\n",
       "  </thead>\n",
       "  <tbody>\n",
       "    <tr>\n",
       "      <th>0</th>\n",
       "      <td>Revocation of certificate of incorporation.</td>\n",
       "      <td>09/29/2010</td>\n",
       "      <td>09/29/2010</td>\n",
       "      <td>P.C.</td>\n",
       "      <td>563 Grand Medical</td>\n",
       "      <td>196275</td>\n",
       "      <td>NaN</td>\n",
       "      <td>NaN</td>\n",
       "      <td>The corporation admitted guilt to the charge o...</td>\n",
       "      <td>https://apps.health.ny.gov/pubdoh/professional...</td>\n",
       "      <td>NaN</td>\n",
       "      <td>https://apps.health.ny.gov/pubdoh/professional...</td>\n",
       "      <td>NaN</td>\n",
       "      <td>YES</td>\n",
       "    </tr>\n",
       "    <tr>\n",
       "      <th>1</th>\n",
       "      <td>Revocation of certificate of incorporation.  P...</td>\n",
       "      <td>12/01/2010</td>\n",
       "      <td>12/08/2010</td>\n",
       "      <td>P.C.</td>\n",
       "      <td>AR Medical Art</td>\n",
       "      <td>207165</td>\n",
       "      <td>NaN</td>\n",
       "      <td>NaN</td>\n",
       "      <td>The corporation admitted to the charge of havi...</td>\n",
       "      <td>https://apps.health.ny.gov/pubdoh/professional...</td>\n",
       "      <td>NaN</td>\n",
       "      <td>https://apps.health.ny.gov/pubdoh/professional...</td>\n",
       "      <td>NaN</td>\n",
       "      <td>NO</td>\n",
       "    </tr>\n",
       "    <tr>\n",
       "      <th>2</th>\n",
       "      <td>License Surrender</td>\n",
       "      <td>NaN</td>\n",
       "      <td>01/13/1999</td>\n",
       "      <td>Joseph</td>\n",
       "      <td>Aaron</td>\n",
       "      <td>72800</td>\n",
       "      <td>MD</td>\n",
       "      <td>NaN</td>\n",
       "      <td>This action modifies the penalty previously im...</td>\n",
       "      <td>https://apps.health.ny.gov/pubdoh/professional...</td>\n",
       "      <td>NaN</td>\n",
       "      <td>https://apps.health.ny.gov/pubdoh/professional...</td>\n",
       "      <td>1927.0</td>\n",
       "      <td>NO</td>\n",
       "    </tr>\n",
       "    <tr>\n",
       "      <th>3</th>\n",
       "      <td>License limited until the physician's North Ca...</td>\n",
       "      <td>12/06/2005</td>\n",
       "      <td>12/13/2005</td>\n",
       "      <td>Mark</td>\n",
       "      <td>Aarons</td>\n",
       "      <td>161530</td>\n",
       "      <td>MD</td>\n",
       "      <td>Gold</td>\n",
       "      <td>The physician did not contest the charge of ha...</td>\n",
       "      <td>https://apps.health.ny.gov/pubdoh/professional...</td>\n",
       "      <td>NaN</td>\n",
       "      <td>https://apps.health.ny.gov/pubdoh/professional...</td>\n",
       "      <td>1958.0</td>\n",
       "      <td>NO</td>\n",
       "    </tr>\n",
       "    <tr>\n",
       "      <th>4</th>\n",
       "      <td>License surrender.</td>\n",
       "      <td>08/07/2013</td>\n",
       "      <td>08/14/2013</td>\n",
       "      <td>Jamsheed</td>\n",
       "      <td>Abadi</td>\n",
       "      <td>136045</td>\n",
       "      <td>MD</td>\n",
       "      <td>S</td>\n",
       "      <td>The physician did not contest the charge of fa...</td>\n",
       "      <td>https://apps.health.ny.gov/pubdoh/professional...</td>\n",
       "      <td>NaN</td>\n",
       "      <td>https://apps.health.ny.gov/pubdoh/professional...</td>\n",
       "      <td>1939.0</td>\n",
       "      <td>NO</td>\n",
       "    </tr>\n",
       "  </tbody>\n",
       "</table>\n",
       "</div>"
      ],
      "text/plain": [
       "                                              action date_updated    eff_date  \\\n",
       "0        Revocation of certificate of incorporation.   09/29/2010  09/29/2010   \n",
       "1  Revocation of certificate of incorporation.  P...   12/01/2010  12/08/2010   \n",
       "2                                  License Surrender          NaN  01/13/1999   \n",
       "3  License limited until the physician's North Ca...   12/06/2005  12/13/2005   \n",
       "4                                 License surrender.   08/07/2013  08/14/2013   \n",
       "\n",
       "      first               last lic_num lic_type middle  \\\n",
       "0      P.C.  563 Grand Medical  196275      NaN    NaN   \n",
       "1      P.C.     AR Medical Art  207165      NaN    NaN   \n",
       "2    Joseph              Aaron   72800       MD    NaN   \n",
       "3      Mark             Aarons  161530       MD   Gold   \n",
       "4  Jamsheed              Abadi  136045       MD      S   \n",
       "\n",
       "                                          misconduct  \\\n",
       "0  The corporation admitted guilt to the charge o...   \n",
       "1  The corporation admitted to the charge of havi...   \n",
       "2  This action modifies the penalty previously im...   \n",
       "3  The physician did not contest the charge of ha...   \n",
       "4  The physician did not contest the charge of fa...   \n",
       "\n",
       "                                           order_pdf restrictions  \\\n",
       "0  https://apps.health.ny.gov/pubdoh/professional...          NaN   \n",
       "1  https://apps.health.ny.gov/pubdoh/professional...          NaN   \n",
       "2  https://apps.health.ny.gov/pubdoh/professional...          NaN   \n",
       "3  https://apps.health.ny.gov/pubdoh/professional...          NaN   \n",
       "4  https://apps.health.ny.gov/pubdoh/professional...          NaN   \n",
       "\n",
       "                                                 url  year_of_birth category  \n",
       "0  https://apps.health.ny.gov/pubdoh/professional...            NaN      YES  \n",
       "1  https://apps.health.ny.gov/pubdoh/professional...            NaN       NO  \n",
       "2  https://apps.health.ny.gov/pubdoh/professional...         1927.0       NO  \n",
       "3  https://apps.health.ny.gov/pubdoh/professional...         1958.0       NO  \n",
       "4  https://apps.health.ny.gov/pubdoh/professional...         1939.0       NO  "
      ]
     },
     "execution_count": 19,
     "metadata": {},
     "output_type": "execute_result"
    }
   ],
   "source": [
    "df.head()"
   ]
  },
  {
   "cell_type": "markdown",
   "metadata": {},
   "source": [
    "## Step 2: Vectorize the violation descriptions\n",
    "\n",
    "You want to **ONLY DO THIS WITH THE ONES YOU CLASSIFIED.**"
   ]
  },
  {
   "cell_type": "code",
   "execution_count": 20,
   "metadata": {
    "collapsed": true
   },
   "outputs": [],
   "source": [
    "from sklearn.feature_extraction.text import CountVectorizer\n",
    "from sklearn.feature_extraction.text import TfidfVectorizer"
   ]
  },
  {
   "cell_type": "code",
   "execution_count": 21,
   "metadata": {},
   "outputs": [
    {
     "data": {
      "text/html": [
       "<div>\n",
       "<style>\n",
       "    .dataframe thead tr:only-child th {\n",
       "        text-align: right;\n",
       "    }\n",
       "\n",
       "    .dataframe thead th {\n",
       "        text-align: left;\n",
       "    }\n",
       "\n",
       "    .dataframe tbody tr th {\n",
       "        vertical-align: top;\n",
       "    }\n",
       "</style>\n",
       "<table border=\"1\" class=\"dataframe\">\n",
       "  <thead>\n",
       "    <tr style=\"text-align: right;\">\n",
       "      <th></th>\n",
       "      <th>yes</th>\n",
       "    </tr>\n",
       "  </thead>\n",
       "  <tbody>\n",
       "    <tr>\n",
       "      <th>0</th>\n",
       "      <td>1</td>\n",
       "    </tr>\n",
       "    <tr>\n",
       "      <th>1</th>\n",
       "      <td>0</td>\n",
       "    </tr>\n",
       "    <tr>\n",
       "      <th>2</th>\n",
       "      <td>0</td>\n",
       "    </tr>\n",
       "    <tr>\n",
       "      <th>3</th>\n",
       "      <td>0</td>\n",
       "    </tr>\n",
       "    <tr>\n",
       "      <th>4</th>\n",
       "      <td>0</td>\n",
       "    </tr>\n",
       "    <tr>\n",
       "      <th>5</th>\n",
       "      <td>0</td>\n",
       "    </tr>\n",
       "    <tr>\n",
       "      <th>6</th>\n",
       "      <td>0</td>\n",
       "    </tr>\n",
       "    <tr>\n",
       "      <th>7</th>\n",
       "      <td>0</td>\n",
       "    </tr>\n",
       "    <tr>\n",
       "      <th>8</th>\n",
       "      <td>0</td>\n",
       "    </tr>\n",
       "    <tr>\n",
       "      <th>9</th>\n",
       "      <td>0</td>\n",
       "    </tr>\n",
       "  </tbody>\n",
       "</table>\n",
       "</div>"
      ],
      "text/plain": [
       "   yes\n",
       "0    1\n",
       "1    0\n",
       "2    0\n",
       "3    0\n",
       "4    0\n",
       "5    0\n",
       "6    0\n",
       "7    0\n",
       "8    0\n",
       "9    0"
      ]
     },
     "execution_count": 21,
     "metadata": {},
     "output_type": "execute_result"
    }
   ],
   "source": [
    "vec = CountVectorizer(stop_words = 'english', max_features=300)\n",
    "matrix = vec.fit_transform(df['category'][0:10])\n",
    "features_df = pd.DataFrame(matrix.toarray(), columns=vec.get_feature_names())\n",
    "features_df"
   ]
  },
  {
   "cell_type": "markdown",
   "metadata": {},
   "source": [
    "## Step 3: Create a classifier and train a model using the violation descriptions\n",
    "\n",
    "You want to **ONLY DO THIS WITH THE ONES YOU CLASSIFIED.** You'll also need to make the `category` column a number, probably.\n",
    "\n",
    "And remember your test/train split!"
   ]
  },
  {
   "cell_type": "code",
   "execution_count": 22,
   "metadata": {},
   "outputs": [
    {
     "name": "stdout",
     "output_type": "stream",
     "text": [
      "(8,) (2,) (8,) (2,)\n"
     ]
    }
   ],
   "source": [
    "from sklearn.model_selection import train_test_split\n",
    "\n",
    "X_train, X_test, y_train, y_test = train_test_split(\n",
    "    features_df.yes, # these are our words\n",
    "    df['category'][0:10], # these are our prices\n",
    "    test_size = 0.2)\n",
    "print(X_train.shape, X_test.shape, y_train.shape, y_test.shape)"
   ]
  },
  {
   "cell_type": "markdown",
   "metadata": {},
   "source": [
    "## Step 4: Test the classifier\n",
    "\n",
    "How does it look? Remember, we're only using the classified ones so far!\n",
    "\n",
    "**If you don't like its predicting ability**, go back up and play around with your vectorizer, and even with your classifier. There are a lot of options!"
   ]
  },
  {
   "cell_type": "code",
   "execution_count": 27,
   "metadata": {},
   "outputs": [],
   "source": [
    "from sklearn.naive_bayes import BernoulliNB\n",
    "from sklearn.naive_bayes import MultinomialNB\n",
    "from sklearn.tree import DecisionTreeClassifier\n",
    "from sklearn import tree\n",
    "\n",
    "# What kind of classifier?\n",
    "clf = BernoulliNB()\n",
    "# clf = MultinomialNB()\n",
    "# clf = DecisionTreeClassifier()"
   ]
  },
  {
   "cell_type": "code",
   "execution_count": 51,
   "metadata": {},
   "outputs": [
    {
     "data": {
      "text/plain": [
       "1.0"
      ]
     },
     "execution_count": 51,
     "metadata": {},
     "output_type": "execute_result"
    }
   ],
   "source": []
  },
  {
   "cell_type": "code",
   "execution_count": 52,
   "metadata": {},
   "outputs": [
    {
     "data": {
      "text/plain": [
       "1.0"
      ]
     },
     "execution_count": 52,
     "metadata": {},
     "output_type": "execute_result"
    }
   ],
   "source": []
  },
  {
   "cell_type": "code",
   "execution_count": null,
   "metadata": {
    "collapsed": true
   },
   "outputs": [],
   "source": []
  },
  {
   "cell_type": "markdown",
   "metadata": {},
   "source": [
    "## Step 5: Vectorize the unclassified violations\n",
    "\n",
    "Now we need to vectorize the violations we didn't classify by hand.\n",
    "\n",
    "You **DO NOT MAKE A NEW VECTORIZOR**. You juse use the one we already have! Also, you **DON'T FIT IT AGAIN!** You just transform. I hope you read this line, but I'll give you some code anyway."
   ]
  },
  {
   "cell_type": "code",
   "execution_count": null,
   "metadata": {
    "collapsed": true
   },
   "outputs": [],
   "source": [
    "not_categorized = df[df.isnull(df.category)]\n",
    "\n",
    "features_df = vec.transform(not_categorized.misconduct)\n",
    "features_df.head()"
   ]
  },
  {
   "cell_type": "markdown",
   "metadata": {},
   "source": [
    "## Step 6: Use the classifier to predict the labels of the unclassified violations\n",
    "\n",
    "You **DON'T NEED A NEW CLASSIFIER**, use the one you have! You'll use `clf.predict`, and feed it... what? What does it need to predict the labels?"
   ]
  },
  {
   "cell_type": "code",
   "execution_count": null,
   "metadata": {
    "collapsed": true
   },
   "outputs": [],
   "source": []
  },
  {
   "cell_type": "markdown",
   "metadata": {},
   "source": [
    "### Step 6.2: Those labels are ugly\n",
    "\n",
    "If you used a `LabelEncoder` to create your categories, you can feed the numbers to `le.inverse_transform` to get actual text back."
   ]
  },
  {
   "cell_type": "code",
   "execution_count": null,
   "metadata": {
    "collapsed": true
   },
   "outputs": [],
   "source": []
  },
  {
   "cell_type": "markdown",
   "metadata": {},
   "source": [
    "### 6.3: Put the category labels back into the original dataframe"
   ]
  },
  {
   "cell_type": "code",
   "execution_count": null,
   "metadata": {
    "collapsed": true
   },
   "outputs": [],
   "source": []
  },
  {
   "cell_type": "markdown",
   "metadata": {},
   "source": [
    "## Step 7: What actions were taken against those doctors?"
   ]
  },
  {
   "cell_type": "code",
   "execution_count": null,
   "metadata": {
    "collapsed": true
   },
   "outputs": [],
   "source": []
  }
 ],
 "metadata": {
  "kernelspec": {
   "display_name": "Python 3",
   "language": "python",
   "name": "python3"
  },
  "language_info": {
   "codemirror_mode": {
    "name": "ipython",
    "version": 3
   },
   "file_extension": ".py",
   "mimetype": "text/x-python",
   "name": "python",
   "nbconvert_exporter": "python",
   "pygments_lexer": "ipython3",
   "version": "3.6.1"
  }
 },
 "nbformat": 4,
 "nbformat_minor": 2
}
